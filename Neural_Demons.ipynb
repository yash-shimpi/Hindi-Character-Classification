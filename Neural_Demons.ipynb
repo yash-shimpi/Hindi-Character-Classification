{
  "nbformat": 4,
  "nbformat_minor": 0,
  "metadata": {
    "colab": {
      "name": "Neural Demons.ipynb",
      "provenance": [],
      "collapsed_sections": []
    },
    "kernelspec": {
      "name": "python3",
      "display_name": "Python 3"
    },
    "language_info": {
      "name": "python"
    },
    "accelerator": "GPU"
  },
  "cells": [
    {
      "cell_type": "markdown",
      "metadata": {
        "id": "k096bmPYrQTG"
      },
      "source": [
        "# Preparing the Files\n"
      ]
    },
    {
      "cell_type": "code",
      "metadata": {
        "id": "_ebsmARK0LKK"
      },
      "source": [
        "!unzip /content/test.zip"
      ],
      "execution_count": null,
      "outputs": []
    },
    {
      "cell_type": "code",
      "metadata": {
        "id": "LNdgf7BV0RqR"
      },
      "source": [
        "!unzip /content/hi.zip"
      ],
      "execution_count": null,
      "outputs": []
    },
    {
      "cell_type": "code",
      "metadata": {
        "id": "DGt67zdpNUAp"
      },
      "source": [
        "!unzip /content/background.zip"
      ],
      "execution_count": null,
      "outputs": []
    },
    {
      "cell_type": "code",
      "metadata": {
        "id": "rCc9B9L2s-le"
      },
      "source": [
        "!mv /content/background /content/training"
      ],
      "execution_count": null,
      "outputs": []
    },
    {
      "cell_type": "code",
      "metadata": {
        "id": "kmx8rT3gt2Ae"
      },
      "source": [
        "!mv /content/hi /content/training"
      ],
      "execution_count": null,
      "outputs": []
    },
    {
      "cell_type": "code",
      "metadata": {
        "id": "U09-ZSTdxV-A"
      },
      "source": [
        "!mv /content/test /content/test_1"
      ],
      "execution_count": null,
      "outputs": []
    },
    {
      "cell_type": "markdown",
      "metadata": {
        "id": "LIvMPlEtyj9V"
      },
      "source": [
        "# Preprocessing\n"
      ]
    },
    {
      "cell_type": "code",
      "metadata": {
        "colab": {
          "base_uri": "https://localhost:8080/"
        },
        "id": "o3HEFzyNvmUF",
        "outputId": "5e04eb08-5f19-4bbf-e4a0-9c4d05155cc8"
      },
      "source": [
        "from tensorflow.keras.preprocessing.image import ImageDataGenerator\n",
        "\n",
        "datagen = ImageDataGenerator(validation_split = 0.2,rescale=1/255)\n",
        "'''\n",
        "                            rotation_range=10, \n",
        "                            zoom_range=0.1,  \n",
        "                            width_shift_range=0.1,\n",
        "                            height_shift_range=0.1, \n",
        "                            horizontal_flip=True,  \n",
        "                            vertical_flip=True, \n",
        "'''\n",
        "# Tried the above data augmentation, but it hindered accuracy possibly due to \n",
        "# already augmented data set\n",
        "                     \n",
        "train_generator = datagen.flow_from_directory(\n",
        "        '/content/training',  \n",
        "        target_size=(64, 64), \n",
        "        batch_size=32,\n",
        "        subset = 'training',\n",
        "        class_mode='binary',\n",
        "        shuffle = True)\n",
        "\n",
        "\n",
        "validation_generator = datagen.flow_from_directory(\n",
        "        '/content/training', \n",
        "        subset = 'validation', \n",
        "        class_mode = 'binary',\n",
        "        #batch_size = 32,\n",
        "        shuffle =True,\n",
        "        target_size=(64, 64)\n",
        "        )"
      ],
      "execution_count": null,
      "outputs": [
        {
          "output_type": "stream",
          "text": [
            "Found 4700 images belonging to 2 classes.\n",
            "Found 1175 images belonging to 2 classes.\n"
          ],
          "name": "stdout"
        }
      ]
    },
    {
      "cell_type": "markdown",
      "metadata": {
        "id": "xg1MFQuws0Gm"
      },
      "source": [
        "# Building the Model "
      ]
    },
    {
      "cell_type": "code",
      "metadata": {
        "colab": {
          "base_uri": "https://localhost:8080/"
        },
        "id": "oX7N7lRuxPnS",
        "outputId": "df469cab-f7dc-46be-ab08-5faede0fac9c"
      },
      "source": [
        "from keras.models import Sequential\n",
        "from keras.layers import Dense, Conv2D, Flatten, pooling, AveragePooling2D, MaxPooling2D, Dropout\n",
        "from keras.callbacks import EarlyStopping\n",
        "model = Sequential()\n",
        "\n",
        "model.add(Conv2D(16, kernel_size=3, activation='relu', input_shape=(64,64,3)))\n",
        "model.add(MaxPooling2D())\n",
        "model.add(Dropout(0.2))\n",
        "\n",
        "# Pruned extra layers as model was overfitting \n",
        "\n",
        "#model.add(Conv2D(32, kernel_size=3, activation='relu'))\n",
        "#model.add(MaxPooling2D())\n",
        "#model.add(Dropout(0.4)) \n",
        "\n",
        "model.add(Conv2D(64, kernel_size=3, activation='relu'))\n",
        "model.add(MaxPooling2D())\n",
        "model.add (Dropout(0.2))\n",
        "model.add(Conv2D(256, kernel_size=3, activation='relu'))\n",
        "model.add(MaxPooling2D())\n",
        "model.add(Dropout(0.4))\n",
        "model.add(Flatten())\n",
        "model.add(Dense(128, activation='relu'))\n",
        "model.add(Dropout(0.7))\n",
        "model.add(Dense(32, activation='relu'))\n",
        "model.add(Dense(1, activation='sigmoid'))\n",
        "\n",
        "# Early stopping wasn't as useful\n",
        "#early_stop = EarlyStopping(monitor='val_loss', mode='min', verbose=1, patience=2)\n",
        "\n",
        "\n",
        "model.summary()"
      ],
      "execution_count": null,
      "outputs": [
        {
          "output_type": "stream",
          "text": [
            "Model: \"sequential_5\"\n",
            "_________________________________________________________________\n",
            "Layer (type)                 Output Shape              Param #   \n",
            "=================================================================\n",
            "conv2d_15 (Conv2D)           (None, 62, 62, 16)        448       \n",
            "_________________________________________________________________\n",
            "max_pooling2d_15 (MaxPooling (None, 31, 31, 16)        0         \n",
            "_________________________________________________________________\n",
            "dropout_16 (Dropout)         (None, 31, 31, 16)        0         \n",
            "_________________________________________________________________\n",
            "conv2d_16 (Conv2D)           (None, 29, 29, 64)        9280      \n",
            "_________________________________________________________________\n",
            "max_pooling2d_16 (MaxPooling (None, 14, 14, 64)        0         \n",
            "_________________________________________________________________\n",
            "dropout_17 (Dropout)         (None, 14, 14, 64)        0         \n",
            "_________________________________________________________________\n",
            "conv2d_17 (Conv2D)           (None, 12, 12, 256)       147712    \n",
            "_________________________________________________________________\n",
            "max_pooling2d_17 (MaxPooling (None, 6, 6, 256)         0         \n",
            "_________________________________________________________________\n",
            "dropout_18 (Dropout)         (None, 6, 6, 256)         0         \n",
            "_________________________________________________________________\n",
            "flatten_5 (Flatten)          (None, 9216)              0         \n",
            "_________________________________________________________________\n",
            "dense_15 (Dense)             (None, 128)               1179776   \n",
            "_________________________________________________________________\n",
            "dropout_19 (Dropout)         (None, 128)               0         \n",
            "_________________________________________________________________\n",
            "dense_16 (Dense)             (None, 32)                4128      \n",
            "_________________________________________________________________\n",
            "dense_17 (Dense)             (None, 1)                 33        \n",
            "=================================================================\n",
            "Total params: 1,341,377\n",
            "Trainable params: 1,341,377\n",
            "Non-trainable params: 0\n",
            "_________________________________________________________________\n"
          ],
          "name": "stdout"
        }
      ]
    },
    {
      "cell_type": "code",
      "metadata": {
        "id": "xoGtZsLXy-v2"
      },
      "source": [
        "model.compile(optimizer='adam', loss='binary_crossentropy', metrics=['accuracy'])\n"
      ],
      "execution_count": null,
      "outputs": []
    },
    {
      "cell_type": "code",
      "metadata": {
        "colab": {
          "base_uri": "https://localhost:8080/"
        },
        "id": "cFsBEjWbzqo3",
        "outputId": "d9c0c90f-9de9-4156-a318-bd7cb7f4a629"
      },
      "source": [
        "history = model.fit_generator(train_generator,\n",
        "epochs=50,\n",
        "verbose=1,\n",
        "validation_data = validation_generator,\n",
        "steps_per_epoch=train_generator.samples/train_generator.batch_size,\n",
        "validation_steps=validation_generator.samples/validation_generator.batch_size,\n",
        ")"
      ],
      "execution_count": null,
      "outputs": [
        {
          "output_type": "stream",
          "text": [
            "/usr/local/lib/python3.7/dist-packages/keras/engine/training.py:1972: UserWarning: `Model.fit_generator` is deprecated and will be removed in a future version. Please use `Model.fit`, which supports generators.\n",
            "  warnings.warn('`Model.fit_generator` is deprecated and '\n"
          ],
          "name": "stderr"
        },
        {
          "output_type": "stream",
          "text": [
            "Epoch 1/50\n",
            "146/146 [==============================] - 5s 28ms/step - loss: 0.5519 - accuracy: 0.7500 - val_loss: 0.4441 - val_accuracy: 0.8043\n",
            "Epoch 2/50\n",
            "146/146 [==============================] - 4s 26ms/step - loss: 0.3543 - accuracy: 0.8536 - val_loss: 0.2661 - val_accuracy: 0.9132\n",
            "Epoch 3/50\n",
            "146/146 [==============================] - 4s 26ms/step - loss: 0.2863 - accuracy: 0.8962 - val_loss: 0.2209 - val_accuracy: 0.9157\n",
            "Epoch 4/50\n",
            "146/146 [==============================] - 4s 25ms/step - loss: 0.2401 - accuracy: 0.9155 - val_loss: 0.1700 - val_accuracy: 0.9404\n",
            "Epoch 5/50\n",
            "146/146 [==============================] - 4s 26ms/step - loss: 0.1894 - accuracy: 0.9353 - val_loss: 0.1490 - val_accuracy: 0.9447\n",
            "Epoch 6/50\n",
            "146/146 [==============================] - 4s 26ms/step - loss: 0.1833 - accuracy: 0.9391 - val_loss: 0.1450 - val_accuracy: 0.9523\n",
            "Epoch 7/50\n",
            "146/146 [==============================] - 4s 25ms/step - loss: 0.1546 - accuracy: 0.9460 - val_loss: 0.1633 - val_accuracy: 0.9404\n",
            "Epoch 8/50\n",
            "146/146 [==============================] - 4s 25ms/step - loss: 0.1381 - accuracy: 0.9460 - val_loss: 0.2053 - val_accuracy: 0.9209\n",
            "Epoch 9/50\n",
            "146/146 [==============================] - 4s 26ms/step - loss: 0.1342 - accuracy: 0.9523 - val_loss: 0.1537 - val_accuracy: 0.9379\n",
            "Epoch 10/50\n",
            "146/146 [==============================] - 4s 26ms/step - loss: 0.1178 - accuracy: 0.9555 - val_loss: 0.1221 - val_accuracy: 0.9489\n",
            "Epoch 11/50\n",
            "146/146 [==============================] - 4s 26ms/step - loss: 0.1159 - accuracy: 0.9579 - val_loss: 0.1330 - val_accuracy: 0.9430\n",
            "Epoch 12/50\n",
            "146/146 [==============================] - 4s 26ms/step - loss: 0.1102 - accuracy: 0.9602 - val_loss: 0.1932 - val_accuracy: 0.9353\n",
            "Epoch 13/50\n",
            "146/146 [==============================] - 4s 25ms/step - loss: 0.0820 - accuracy: 0.9681 - val_loss: 0.1289 - val_accuracy: 0.9481\n",
            "Epoch 14/50\n",
            "146/146 [==============================] - 4s 25ms/step - loss: 0.0869 - accuracy: 0.9700 - val_loss: 0.1348 - val_accuracy: 0.9438\n",
            "Epoch 15/50\n",
            "146/146 [==============================] - 4s 25ms/step - loss: 0.0659 - accuracy: 0.9762 - val_loss: 0.1490 - val_accuracy: 0.9455\n",
            "Epoch 16/50\n",
            "146/146 [==============================] - 4s 26ms/step - loss: 0.0627 - accuracy: 0.9751 - val_loss: 0.1894 - val_accuracy: 0.9294\n",
            "Epoch 17/50\n",
            "146/146 [==============================] - 4s 25ms/step - loss: 0.0647 - accuracy: 0.9764 - val_loss: 0.1885 - val_accuracy: 0.9379\n",
            "Epoch 18/50\n",
            "146/146 [==============================] - 4s 26ms/step - loss: 0.0592 - accuracy: 0.9785 - val_loss: 0.1532 - val_accuracy: 0.9404\n",
            "Epoch 19/50\n",
            "146/146 [==============================] - 4s 26ms/step - loss: 0.0709 - accuracy: 0.9738 - val_loss: 0.1890 - val_accuracy: 0.9379\n",
            "Epoch 20/50\n",
            "146/146 [==============================] - 4s 25ms/step - loss: 0.0451 - accuracy: 0.9832 - val_loss: 0.3075 - val_accuracy: 0.9294\n",
            "Epoch 21/50\n",
            "146/146 [==============================] - 4s 26ms/step - loss: 0.0455 - accuracy: 0.9860 - val_loss: 0.1785 - val_accuracy: 0.9455\n",
            "Epoch 22/50\n",
            "146/146 [==============================] - 4s 26ms/step - loss: 0.0370 - accuracy: 0.9868 - val_loss: 0.2934 - val_accuracy: 0.9396\n",
            "Epoch 23/50\n",
            "146/146 [==============================] - 4s 26ms/step - loss: 0.0390 - accuracy: 0.9868 - val_loss: 0.2414 - val_accuracy: 0.9345\n",
            "Epoch 24/50\n",
            "146/146 [==============================] - 4s 26ms/step - loss: 0.0662 - accuracy: 0.9770 - val_loss: 0.1388 - val_accuracy: 0.9464\n",
            "Epoch 25/50\n",
            "146/146 [==============================] - 4s 25ms/step - loss: 0.0334 - accuracy: 0.9885 - val_loss: 0.2099 - val_accuracy: 0.9421\n",
            "Epoch 26/50\n",
            "146/146 [==============================] - 4s 26ms/step - loss: 0.0286 - accuracy: 0.9902 - val_loss: 0.2316 - val_accuracy: 0.9557\n",
            "Epoch 27/50\n",
            "146/146 [==============================] - 4s 25ms/step - loss: 0.0295 - accuracy: 0.9885 - val_loss: 0.2321 - val_accuracy: 0.9481\n",
            "Epoch 28/50\n",
            "146/146 [==============================] - 4s 25ms/step - loss: 0.0623 - accuracy: 0.9821 - val_loss: 0.1145 - val_accuracy: 0.9591\n",
            "Epoch 29/50\n",
            "146/146 [==============================] - 4s 25ms/step - loss: 0.0271 - accuracy: 0.9906 - val_loss: 0.2642 - val_accuracy: 0.9285\n",
            "Epoch 30/50\n",
            "146/146 [==============================] - 4s 25ms/step - loss: 0.0284 - accuracy: 0.9909 - val_loss: 0.1992 - val_accuracy: 0.9430\n",
            "Epoch 31/50\n",
            "146/146 [==============================] - 4s 26ms/step - loss: 0.0247 - accuracy: 0.9906 - val_loss: 0.1837 - val_accuracy: 0.9540\n",
            "Epoch 32/50\n",
            "146/146 [==============================] - 4s 25ms/step - loss: 0.0239 - accuracy: 0.9913 - val_loss: 0.5540 - val_accuracy: 0.8791\n",
            "Epoch 33/50\n",
            "146/146 [==============================] - 4s 25ms/step - loss: 0.0261 - accuracy: 0.9915 - val_loss: 0.2541 - val_accuracy: 0.9353\n",
            "Epoch 34/50\n",
            "146/146 [==============================] - 4s 26ms/step - loss: 0.0201 - accuracy: 0.9923 - val_loss: 0.2896 - val_accuracy: 0.9430\n",
            "Epoch 35/50\n",
            "146/146 [==============================] - 4s 26ms/step - loss: 0.0273 - accuracy: 0.9911 - val_loss: 0.2147 - val_accuracy: 0.9532\n",
            "Epoch 36/50\n",
            "146/146 [==============================] - 4s 26ms/step - loss: 0.0321 - accuracy: 0.9906 - val_loss: 0.3677 - val_accuracy: 0.9421\n",
            "Epoch 37/50\n",
            "146/146 [==============================] - 4s 25ms/step - loss: 0.0326 - accuracy: 0.9915 - val_loss: 0.1937 - val_accuracy: 0.9498\n",
            "Epoch 38/50\n",
            "146/146 [==============================] - 4s 26ms/step - loss: 0.0234 - accuracy: 0.9930 - val_loss: 0.2134 - val_accuracy: 0.9498\n",
            "Epoch 39/50\n",
            "146/146 [==============================] - 4s 25ms/step - loss: 0.0288 - accuracy: 0.9915 - val_loss: 0.1524 - val_accuracy: 0.9523\n",
            "Epoch 40/50\n",
            "146/146 [==============================] - 4s 25ms/step - loss: 0.0258 - accuracy: 0.9911 - val_loss: 0.3898 - val_accuracy: 0.9268\n",
            "Epoch 41/50\n",
            "146/146 [==============================] - 4s 25ms/step - loss: 0.0151 - accuracy: 0.9947 - val_loss: 0.3543 - val_accuracy: 0.9353\n",
            "Epoch 42/50\n",
            "146/146 [==============================] - 4s 26ms/step - loss: 0.0359 - accuracy: 0.9894 - val_loss: 0.3739 - val_accuracy: 0.9515\n",
            "Epoch 43/50\n",
            "146/146 [==============================] - 4s 26ms/step - loss: 0.0195 - accuracy: 0.9940 - val_loss: 0.3268 - val_accuracy: 0.9498\n",
            "Epoch 44/50\n",
            "146/146 [==============================] - 4s 26ms/step - loss: 0.0305 - accuracy: 0.9891 - val_loss: 0.2982 - val_accuracy: 0.9421\n",
            "Epoch 45/50\n",
            "146/146 [==============================] - 4s 26ms/step - loss: 0.0272 - accuracy: 0.9919 - val_loss: 0.3421 - val_accuracy: 0.9396\n",
            "Epoch 46/50\n",
            "146/146 [==============================] - 4s 26ms/step - loss: 0.0374 - accuracy: 0.9909 - val_loss: 0.2607 - val_accuracy: 0.9379\n",
            "Epoch 47/50\n",
            "146/146 [==============================] - 4s 26ms/step - loss: 0.0205 - accuracy: 0.9936 - val_loss: 0.3555 - val_accuracy: 0.9319\n",
            "Epoch 48/50\n",
            "146/146 [==============================] - 4s 27ms/step - loss: 0.0344 - accuracy: 0.9891 - val_loss: 0.3702 - val_accuracy: 0.9302\n",
            "Epoch 49/50\n",
            "146/146 [==============================] - 4s 26ms/step - loss: 0.0111 - accuracy: 0.9972 - val_loss: 0.3601 - val_accuracy: 0.9498\n",
            "Epoch 50/50\n",
            "146/146 [==============================] - 4s 26ms/step - loss: 0.0164 - accuracy: 0.9949 - val_loss: 0.3739 - val_accuracy: 0.9455\n"
          ],
          "name": "stdout"
        }
      ]
    },
    {
      "cell_type": "markdown",
      "metadata": {
        "id": "KCRHJNBws-z8"
      },
      "source": [
        "# Visualizing the training process and results"
      ]
    },
    {
      "cell_type": "code",
      "metadata": {
        "colab": {
          "base_uri": "https://localhost:8080/",
          "height": 282
        },
        "id": "YPTAfGSd0z5E",
        "outputId": "7b5b9af1-5fd5-42fb-da5b-630eb5e7723a"
      },
      "source": [
        "import pandas as pd\n",
        "import matplotlib.pyplot as plt\n",
        "\n",
        "losses = pd.DataFrame(model.history.history)\n",
        "losses\n",
        "losses.plot()"
      ],
      "execution_count": null,
      "outputs": [
        {
          "output_type": "execute_result",
          "data": {
            "text/plain": [
              "<matplotlib.axes._subplots.AxesSubplot at 0x7ff12ba93c50>"
            ]
          },
          "metadata": {},
          "execution_count": 36
        },
        {
          "output_type": "display_data",
          "data": {
            "image/png": "[encoded data removed]",
            "text/plain": [
              "<Figure size 432x288 with 1 Axes>"
            ]
          },
          "metadata": {
            "needs_background": "light"
          }
        }
      ]
    },
    {
      "cell_type": "code",
      "metadata": {
        "colab": {
          "base_uri": "https://localhost:8080/",
          "height": 562
        },
        "id": "sOogh-g_5dkj",
        "outputId": "2c098800-9c73-4371-a69f-2637d4afd9ef"
      },
      "source": [
        "import matplotlib.pyplot as plt\n",
        "acc = history.history['accuracy']\n",
        "val_acc = history.history['val_accuracy']\n",
        "loss = history.history['loss']\n",
        "val_loss = history.history['val_loss']\n",
        "\n",
        "epochs = range(len(acc))\n",
        "\n",
        "plt.plot(epochs, acc, 'bo', label='Training accuracy')\n",
        "plt.plot(epochs, val_acc, 'b', label='Validation accuracy')\n",
        "plt.title('Training and validation accuracy')\n",
        "\n",
        "plt.figure()\n",
        "\n",
        "plt.plot(epochs, loss, 'bo', label='Training Loss')\n",
        "plt.plot(epochs, val_loss, 'b', label='Validation Loss')\n",
        "plt.title('Training')"
      ],
      "execution_count": null,
      "outputs": [
        {
          "output_type": "execute_result",
          "data": {
            "text/plain": [
              "Text(0.5, 1.0, 'Training')"
            ]
          },
          "metadata": {},
          "execution_count": 37
        },
        {
          "output_type": "display_data",
          "data": {
            "image/png": "[encoded data removed]",
            "text/plain": [
              "<Figure size 432x288 with 1 Axes>"
            ]
          },
          "metadata": {
            "needs_background": "light"
          }
        },
        {
          "output_type": "display_data",
          "data": {
            "image/png": "[encoded data removed]",
            "text/plain": [
              "<Figure size 432x288 with 1 Axes>"
            ]
          },
          "metadata": {
            "needs_background": "light"
          }
        }
      ]
    },
    {
      "cell_type": "markdown",
      "metadata": {
        "id": "HJfAlXa9tUZz"
      },
      "source": [
        "# Saving the model and loading test data"
      ]
    },
    {
      "cell_type": "code",
      "metadata": {
        "id": "qmM_WPGQ52Zt",
        "colab": {
          "base_uri": "https://localhost:8080/"
        },
        "outputId": "924349e1-3428-42a6-d311-a56413e8ff19"
      },
      "source": [
        "model.save('ai hack 2.0')"
      ],
      "execution_count": null,
      "outputs": [
        {
          "output_type": "stream",
          "text": [
            "INFO:tensorflow:Assets written to: ai hack 2.0/assets\n"
          ],
          "name": "stdout"
        }
      ]
    },
    {
      "cell_type": "code",
      "metadata": {
        "id": "SrueO64CqQOi",
        "colab": {
          "base_uri": "https://localhost:8080/"
        },
        "outputId": "f8d7e85f-14a9-416a-ca97-b9edcab95ec4"
      },
      "source": [
        "test_image_gen = ImageDataGenerator(rescale=1/255.)\n",
        "test_generator = test_image_gen.flow_from_directory('/content/test_1', target_size=(64,64), batch_size=1,\n",
        "                                                   seed=2, class_mode=None, shuffle=False)"
      ],
      "execution_count": null,
      "outputs": [
        {
          "output_type": "stream",
          "text": [
            "Found 98 images belonging to 1 classes.\n"
          ],
          "name": "stdout"
        }
      ]
    },
    {
      "cell_type": "code",
      "metadata": {
        "colab": {
          "base_uri": "https://localhost:8080/"
        },
        "id": "VkTqENbCxlo_",
        "outputId": "2d183773-06cb-451f-e61d-3181ad7858bc"
      },
      "source": [
        "y_pred=model.predict_generator(generator=test_generator, verbose=1)"
      ],
      "execution_count": null,
      "outputs": [
        {
          "output_type": "stream",
          "text": [
            "/usr/local/lib/python3.7/dist-packages/keras/engine/training.py:2035: UserWarning: `Model.predict_generator` is deprecated and will be removed in a future version. Please use `Model.predict`, which supports generators.\n",
            "  warnings.warn('`Model.predict_generator` is deprecated and '\n"
          ],
          "name": "stderr"
        },
        {
          "output_type": "stream",
          "text": [
            "98/98 [==============================] - 0s 2ms/step\n"
          ],
          "name": "stdout"
        }
      ]
    },
    {
      "cell_type": "code",
      "metadata": {
        "id": "dGp-NCoSzaOL"
      },
      "source": [
        "test_generator.reset()\n",
        "y_pred = model.predict(test_generator)"
      ],
      "execution_count": null,
      "outputs": []
    },
    {
      "cell_type": "code",
      "metadata": {
        "colab": {
          "base_uri": "https://localhost:8080/"
        },
        "id": "HQw1vNBDzd6u",
        "outputId": "f3fcea8a-b1c7-4769-b1c5-96a16f12116d"
      },
      "source": [
        "train_generator.class_indices"
      ],
      "execution_count": null,
      "outputs": [
        {
          "output_type": "execute_result",
          "data": {
            "text/plain": [
              "{'background': 0, 'hi': 1}"
            ]
          },
          "metadata": {},
          "execution_count": 58
        }
      ]
    },
    {
      "cell_type": "code",
      "metadata": {
        "id": "uk_JmTFtziiN"
      },
      "source": [
        "y_pred_classification = np.where(y_pred > 0.5, 1, 0)\n",
        "y_pred_classification"
      ],
      "execution_count": null,
      "outputs": []
    },
    {
      "cell_type": "code",
      "metadata": {
        "id": "CIDcr1Pt2g7k"
      },
      "source": [
        "import os\n",
        "DIR_TEST = \"/content/test_1/test\"\n",
        "test_imgs = os.listdir(DIR_TEST)\n",
        "\n",
        "test_imgs =  sorted(test_imgs)"
      ],
      "execution_count": null,
      "outputs": []
    },
    {
      "cell_type": "code",
      "metadata": {
        "id": "GfBthtqM8mNH"
      },
      "source": [
        "\n",
        "os.renames('/content/test_1/test/2.jpg', '/content/test_1/test/02.jpg')\n",
        "os.renames('/content/test_1/test/3.jpg', '/content/test_1/test/03.jpg')\n",
        "os.renames('/content/test_1/test/4.jpg', '/content/test_1/test/04.jpg')\n",
        "os.renames('/content/test_1/test/5.jpg', '/content/test_1/test/05.jpg')\n",
        "os.renames('/content/test_1/test/6.jpg', '/content/test_1/test/06.jpg')\n",
        "os.renames('/content/test_1/test/7.jpg', '/content/test_1/test/07.jpg')\n",
        "os.renames('/content/test_1/test/8.jpg', '/content/test_1/test/08.jpg')\n",
        "os.renames('/content/test_1/test/9.jpg', '/content/test_1/test/09.jpg')\n",
        "\n"
      ],
      "execution_count": null,
      "outputs": []
    },
    {
      "cell_type": "code",
      "metadata": {
        "colab": {
          "base_uri": "https://localhost:8080/",
          "height": 204
        },
        "id": "mROTLjP8zwj4",
        "outputId": "9b0de63f-16af-4081-f551-f0cff98e0cbe"
      },
      "source": [
        "import pandas as pd\n",
        "df_test = pd.DataFrame({'Filename':test_imgs})\n",
        "df_test.head()"
      ],
      "execution_count": null,
      "outputs": [
        {
          "output_type": "execute_result",
          "data": {
            "text/html": [
              "<div>\n",
              "<style scoped>\n",
              "    .dataframe tbody tr th:only-of-type {\n",
              "        vertical-align: middle;\n",
              "    }\n",
              "\n",
              "    .dataframe tbody tr th {\n",
              "        vertical-align: top;\n",
              "    }\n",
              "\n",
              "    .dataframe thead th {\n",
              "        text-align: right;\n",
              "    }\n",
              "</style>\n",
              "<table border=\"1\" class=\"dataframe\">\n",
              "  <thead>\n",
              "    <tr style=\"text-align: right;\">\n",
              "      <th></th>\n",
              "      <th>Filename</th>\n",
              "    </tr>\n",
              "  </thead>\n",
              "  <tbody>\n",
              "    <tr>\n",
              "      <th>0</th>\n",
              "      <td>01.jpg</td>\n",
              "    </tr>\n",
              "    <tr>\n",
              "      <th>1</th>\n",
              "      <td>02.jpg</td>\n",
              "    </tr>\n",
              "    <tr>\n",
              "      <th>2</th>\n",
              "      <td>03.jpg</td>\n",
              "    </tr>\n",
              "    <tr>\n",
              "      <th>3</th>\n",
              "      <td>04.jpg</td>\n",
              "    </tr>\n",
              "    <tr>\n",
              "      <th>4</th>\n",
              "      <td>05.jpg</td>\n",
              "    </tr>\n",
              "  </tbody>\n",
              "</table>\n",
              "</div>"
            ],
            "text/plain": [
              "  Filename\n",
              "0   01.jpg\n",
              "1   02.jpg\n",
              "2   03.jpg\n",
              "3   04.jpg\n",
              "4   05.jpg"
            ]
          },
          "metadata": {},
          "execution_count": 103
        }
      ]
    },
    {
      "cell_type": "code",
      "metadata": {
        "colab": {
          "base_uri": "https://localhost:8080/"
        },
        "id": "4P_bRQgU1J7i",
        "outputId": "1e1f9371-b88b-4d2b-c5cb-dc8d3dce4234"
      },
      "source": [
        "test_datagen = ImageDataGenerator(rescale=1.0/255.0)\n",
        "\n",
        "test_generator = test_datagen.flow_from_dataframe(\n",
        "    df_test,\n",
        "    directory = \"/content/test_1/test\",\n",
        "    x_col = 'Filename',\n",
        "    y_col = None,\n",
        "    class_mode = None,\n",
        "    target_size = (64,64),\n",
        "    batch_size = 32,\n",
        "    shuffle = False\n",
        ")"
      ],
      "execution_count": null,
      "outputs": [
        {
          "output_type": "stream",
          "text": [
            "Found 98 validated image filenames.\n"
          ],
          "name": "stdout"
        }
      ]
    },
    {
      "cell_type": "code",
      "metadata": {
        "id": "LQUpyHdr3E5a"
      },
      "source": [
        "pred = model.predict(test_generator, \n",
        "                     steps = np.ceil(df_test.shape[0]/32))"
      ],
      "execution_count": null,
      "outputs": []
    },
    {
      "cell_type": "code",
      "metadata": {
        "colab": {
          "base_uri": "https://localhost:8080/"
        },
        "id": "CVRplCJb3QZL",
        "outputId": "75f0e9aa-9747-47cb-e232-090286192a70"
      },
      "source": [
        "np.set_printoptions(suppress=True)\n",
        "\n",
        "pred[:5]"
      ],
      "execution_count": null,
      "outputs": [
        {
          "output_type": "execute_result",
          "data": {
            "text/plain": [
              "array([[1.        ],\n",
              "       [0.00000228],\n",
              "       [1.        ],\n",
              "       [0.        ],\n",
              "       [1.        ]], dtype=float32)"
            ]
          },
          "metadata": {},
          "execution_count": 106
        }
      ]
    },
    {
      "cell_type": "code",
      "metadata": {
        "colab": {
          "base_uri": "https://localhost:8080/",
          "height": 204
        },
        "id": "NI1hLUqh3UKL",
        "outputId": "c6f30ce2-ef2d-4420-f1ce-3ce3138c513e"
      },
      "source": [
        "category = []\n",
        "for x in pred[:,0]:\n",
        "    category.append(1 if x > 0.5 else 0)\n",
        "    \n",
        "df_test['Category'] = category\n",
        "\n",
        "df_test.head()"
      ],
      "execution_count": null,
      "outputs": [
        {
          "output_type": "execute_result",
          "data": {
            "text/html": [
              "<div>\n",
              "<style scoped>\n",
              "    .dataframe tbody tr th:only-of-type {\n",
              "        vertical-align: middle;\n",
              "    }\n",
              "\n",
              "    .dataframe tbody tr th {\n",
              "        vertical-align: top;\n",
              "    }\n",
              "\n",
              "    .dataframe thead th {\n",
              "        text-align: right;\n",
              "    }\n",
              "</style>\n",
              "<table border=\"1\" class=\"dataframe\">\n",
              "  <thead>\n",
              "    <tr style=\"text-align: right;\">\n",
              "      <th></th>\n",
              "      <th>Filename</th>\n",
              "      <th>Category</th>\n",
              "    </tr>\n",
              "  </thead>\n",
              "  <tbody>\n",
              "    <tr>\n",
              "      <th>0</th>\n",
              "      <td>01.jpg</td>\n",
              "      <td>1</td>\n",
              "    </tr>\n",
              "    <tr>\n",
              "      <th>1</th>\n",
              "      <td>02.jpg</td>\n",
              "      <td>0</td>\n",
              "    </tr>\n",
              "    <tr>\n",
              "      <th>2</th>\n",
              "      <td>03.jpg</td>\n",
              "      <td>1</td>\n",
              "    </tr>\n",
              "    <tr>\n",
              "      <th>3</th>\n",
              "      <td>04.jpg</td>\n",
              "      <td>0</td>\n",
              "    </tr>\n",
              "    <tr>\n",
              "      <th>4</th>\n",
              "      <td>05.jpg</td>\n",
              "      <td>1</td>\n",
              "    </tr>\n",
              "  </tbody>\n",
              "</table>\n",
              "</div>"
            ],
            "text/plain": [
              "  Filename  Category\n",
              "0   01.jpg         1\n",
              "1   02.jpg         0\n",
              "2   03.jpg         1\n",
              "3   04.jpg         0\n",
              "4   05.jpg         1"
            ]
          },
          "metadata": {},
          "execution_count": 107
        }
      ]
    },
    {
      "cell_type": "code",
      "metadata": {
        "id": "MoiQO8-L5IoS"
      },
      "source": [
        "df_test.to_csv('Results.csv')"
      ],
      "execution_count": null,
      "outputs": []
    },
    {
      "cell_type": "markdown",
      "metadata": {
        "id": "8_O0iOlat4Jj"
      },
      "source": [
        "# END"
      ]
    }
  ]
}